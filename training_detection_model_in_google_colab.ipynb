{
  "cells": [
    {
      "cell_type": "code",
      "execution_count": null,
      "metadata": {
        "id": "U8DtwapRfWGR"
      },
      "outputs": [],
      "source": [
        "!git clone https://github.com/magdyamr542/greek-letter-detection.git"
      ]
    },
    {
      "cell_type": "code",
      "execution_count": null,
      "metadata": {
        "id": "UyJGntXAmih9"
      },
      "outputs": [],
      "source": [
        "%cd greek-letter-detection"
      ]
    },
    {
      "cell_type": "markdown",
      "metadata": {
        "id": "64N6lhwViDHL"
      },
      "source": [
        "Install the deps of the project"
      ]
    },
    {
      "cell_type": "code",
      "execution_count": null,
      "metadata": {
        "id": "2R_bpIA8gByr"
      },
      "outputs": [],
      "source": [
        "!pip3 install -r requirements.txt"
      ]
    },
    {
      "cell_type": "markdown",
      "metadata": {
        "id": "ASENBlujiAwJ"
      },
      "source": [
        "Get the data from my drive"
      ]
    },
    {
      "cell_type": "code",
      "execution_count": null,
      "metadata": {
        "id": "diOebp7CgR8m"
      },
      "outputs": [],
      "source": [
        "from google.colab import drive\n",
        "drive.mount('/content/gdrive')\n",
        "\n"
      ]
    },
    {
      "cell_type": "code",
      "execution_count": null,
      "metadata": {
        "id": "q_OSJJIkhpV4"
      },
      "outputs": [],
      "source": [
        "!unzip -q /content/gdrive/MyDrive/greek-letter-detection-models/data.zip"
      ]
    },
    {
      "cell_type": "code",
      "execution_count": null,
      "metadata": {
        "id": "x8Ilr-n2iIq5"
      },
      "outputs": [],
      "source": [
        "!python3 detection.py"
      ]
    },
    {
      "cell_type": "markdown",
      "metadata": {
        "id": "SFxi5Bj1_XTo"
      },
      "source": [
        "Upload the trained model to drive"
      ]
    },
    {
      "cell_type": "code",
      "execution_count": null,
      "metadata": {
        "id": "sXqPONmX-k1y"
      },
      "outputs": [],
      "source": [
        "!cp model_detection.pt ../gdrive/MyDrive/greek-letter-detection-models/model_detection_2.pt"
      ]
    }
  ],
  "metadata": {
    "accelerator": "GPU",
    "colab": {
      "collapsed_sections": [],
      "private_outputs": true,
      "provenance": []
    },
    "kernelspec": {
      "display_name": "Python 3.8.10 ('venv': venv)",
      "language": "python",
      "name": "python3"
    },
    "language_info": {
      "name": "python",
      "version": "3.8.10"
    },
    "vscode": {
      "interpreter": {
        "hash": "63c35dc1b4259e76666d26af6950a97f51423e89076c10294cd4314a6803ed2d"
      }
    }
  },
  "nbformat": 4,
  "nbformat_minor": 0
}
