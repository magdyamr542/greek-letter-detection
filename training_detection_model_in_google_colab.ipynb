{
  "nbformat": 4,
  "nbformat_minor": 0,
  "metadata": {
    "colab": {
      "provenance": [],
      "collapsed_sections": [],
      "private_outputs": true
    },
    "kernelspec": {
      "name": "python3",
      "display_name": "Python 3"
    },
    "language_info": {
      "name": "python"
    },
    "accelerator": "GPU"
  },
  "cells": [
    {
      "cell_type": "code",
      "source": [
        "!git clone https://github.com/magdyamr542/greek-letter-detection.git"
      ],
      "metadata": {
        "id": "U8DtwapRfWGR"
      },
      "execution_count": null,
      "outputs": []
    },
    {
      "cell_type": "code",
      "source": [
        "%cd greek-letter-detection"
      ],
      "metadata": {
        "id": "UyJGntXAmih9"
      },
      "execution_count": null,
      "outputs": []
    },
    {
      "cell_type": "markdown",
      "source": [
        "Install the deps of the project"
      ],
      "metadata": {
        "id": "64N6lhwViDHL"
      }
    },
    {
      "cell_type": "code",
      "source": [
        "!pip3 install -r requirements.txt"
      ],
      "metadata": {
        "id": "2R_bpIA8gByr"
      },
      "execution_count": null,
      "outputs": []
    },
    {
      "cell_type": "markdown",
      "source": [
        "Get the data from my drive"
      ],
      "metadata": {
        "id": "ASENBlujiAwJ"
      }
    },
    {
      "cell_type": "code",
      "source": [
        "from google.colab import drive\n",
        "drive.mount('/content/gdrive')\n",
        "\n"
      ],
      "metadata": {
        "id": "diOebp7CgR8m"
      },
      "execution_count": null,
      "outputs": []
    },
    {
      "cell_type": "code",
      "source": [
        "!unzip -q /content/gdrive/MyDrive/greek-letter-detection-models/data.zip"
      ],
      "metadata": {
        "id": "q_OSJJIkhpV4"
      },
      "execution_count": null,
      "outputs": []
    },
    {
      "cell_type": "code",
      "source": [
        "!python3 detection.py"
      ],
      "metadata": {
        "id": "x8Ilr-n2iIq5"
      },
      "execution_count": null,
      "outputs": []
    },
    {
      "cell_type": "markdown",
      "source": [
        "Upload the trained model to drive"
      ],
      "metadata": {
        "id": "SFxi5Bj1_XTo"
      }
    },
    {
      "cell_type": "code",
      "source": [
        "!cp model_detection.pt ../gdrive/MyDrive/greek-letter-detection-models/model_detection_2.pt"
      ],
      "metadata": {
        "id": "sXqPONmX-k1y"
      },
      "execution_count": null,
      "outputs": []
    }
  ]
}